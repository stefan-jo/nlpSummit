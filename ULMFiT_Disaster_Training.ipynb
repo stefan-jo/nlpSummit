{
 "cells": [
  {
   "cell_type": "markdown",
   "metadata": {},
   "source": [
    "# Multilingual Disaster Response Messages - ULMFiT Training"
   ]
  },
  {
   "cell_type": "markdown",
   "metadata": {},
   "source": [
    "In this notebook, I will fine-tune a ULMFiT model on the [Multilingual Disaster Response Messages](https://appen.com/datasets/combined-disaster-response-data/) dataset. This project is part of the NLP Summit Hackathon 2020."
   ]
  },
  {
   "cell_type": "markdown",
   "metadata": {},
   "source": [
    "**Objective:**\n",
    "- leverage recent advantages in NLP for applications that benefit the social good\n",
    "- more specifically, use ML and NLP to speed up the processing of disaster response messages and allow text evaluation at scale\n",
    "\n",
    "**Solution:**\n",
    "- train text classification models to achieve the goals above\n",
    "- deploy text classfication models to a simple prototype webapp\n",
    "\n",
    "**Approach:**\n",
    "- implement *Universal Language Model Fine-tuning for Text Classification* ([ULMFiT](https://arxiv.org/abs/1801.06146)) by Howard and Ruder with fastai\n",
    "- fine-tune language model and text classifiers from a pre-trained Wikitext 103 language model\n",
    "- based on AWD-LSTM architecture, which is very powerful but faster than large scale transformers\n",
    "\n",
    "**Limitations:**\n",
    "- this project was developed in very short time and only delivers a working prototype\n",
    "- **BY NO MEANS SHOULD THE MODEL PREDICTIONS BE USED FOR ACTUAL EVALUATION OF DISASTER REPONSE MESSAGES!!!**\n",
    "\n",
    "**Credits:**\n",
    "- [JohnSnowLabs](https://www.johnsnowlabs.com/) for organizing an awesome NLP Summit 2020\n",
    "- [appen](https://appen.com/) for supplying a very interesting and useful real-world dataset\n",
    "- [fast.ai](https://www.fast.ai/) for their great deep learning library and online courses\n",
    "- [paperspace](https://www.paperspace.com/) for making Quadro P5000 GPUs available for free"
   ]
  },
  {
   "cell_type": "code",
   "execution_count": 1,
   "metadata": {},
   "outputs": [
    {
     "name": "stderr",
     "output_type": "stream",
     "text": [
      "/usr/local/lib/python3.6/dist-packages/fastcore/foundation.py:51: UserWarning: `patch_property` is deprecated and will be removed; use `patch(as_prop=True)` instead\n",
      "  warnings.warn(\"`patch_property` is deprecated and will be removed; use `patch(as_prop=True)` instead\")\n"
     ]
    }
   ],
   "source": [
    "from fastai.text.all import *\n",
    "from sklearn.metrics import classification_report"
   ]
  },
  {
   "cell_type": "markdown",
   "metadata": {},
   "source": [
    "## Data preparation"
   ]
  },
  {
   "cell_type": "code",
   "execution_count": 3,
   "metadata": {},
   "outputs": [],
   "source": [
    "train_df = pd.read_csv('disaster_response_messages_training.csv', low_memory=False)\n",
    "valid_df = pd.read_csv('disaster_response_messages_validation.csv', low_memory=False)\n",
    "test_df = pd.read_csv('disaster_response_messages_test.csv', low_memory=False)"
   ]
  },
  {
   "cell_type": "code",
   "execution_count": 4,
   "metadata": {},
   "outputs": [
    {
     "name": "stdout",
     "output_type": "stream",
     "text": [
      "Training set size: 21046\n",
      "Validation set size: 2573\n",
      "Test set size: 2629\n"
     ]
    }
   ],
   "source": [
    "print(f'Training set size: {len(train_df)}')\n",
    "print(f'Validation set size: {len(valid_df)}')\n",
    "print(f'Test set size: {len(test_df)}')"
   ]
  },
  {
   "cell_type": "markdown",
   "metadata": {},
   "source": [
    "There are 36 categories in the dataset. The number of classes in conjunction with the small size of the dataset make this a very hard multi-label classification problem."
   ]
  },
  {
   "cell_type": "code",
   "execution_count": 5,
   "metadata": {},
   "outputs": [
    {
     "name": "stdout",
     "output_type": "stream",
     "text": [
      "['PII', 'request', 'offer', 'aid_related', 'medical_help', 'medical_products', 'search_and_rescue', 'security', 'military', 'child_alone', 'water', 'food', 'shelter', 'clothing', 'money', 'missing_people', 'refugees', 'death', 'other_aid', 'infrastructure_related', 'transport', 'buildings', 'electricity', 'tools', 'hospitals', 'shops', 'aid_centers', 'other_infrastructure', 'weather_related', 'floods', 'storm', 'fire', 'earthquake', 'cold', 'other_weather', 'direct_report']\n"
     ]
    }
   ],
   "source": [
    "label_cols = list(train_df.columns)[6:]\n",
    "print(label_cols)"
   ]
  },
  {
   "cell_type": "markdown",
   "metadata": {},
   "source": [
    "I will drop 3 categories that are always zero, so there is nothing to learn from or predict"
   ]
  },
  {
   "cell_type": "code",
   "execution_count": 6,
   "metadata": {},
   "outputs": [
    {
     "name": "stdout",
     "output_type": "stream",
     "text": [
      "0    21046\n",
      "Name: PII, dtype: int64\n",
      "0    21046\n",
      "Name: offer, dtype: int64\n",
      "0    21046\n",
      "Name: child_alone, dtype: int64\n"
     ]
    }
   ],
   "source": [
    "zero_cols = ['PII', 'offer', 'child_alone']\n",
    "for c in zero_cols:\n",
    "    print(train_df[c].value_counts())"
   ]
  },
  {
   "cell_type": "code",
   "execution_count": 7,
   "metadata": {},
   "outputs": [],
   "source": [
    "for c in zero_cols:\n",
    "    label_cols.remove(c)"
   ]
  },
  {
   "cell_type": "code",
   "execution_count": 8,
   "metadata": {},
   "outputs": [
    {
     "name": "stdout",
     "output_type": "stream",
     "text": [
      "Final number of categories: 33\n"
     ]
    }
   ],
   "source": [
    "print(f'Final number of categories: {len(label_cols)}')"
   ]
  },
  {
   "cell_type": "markdown",
   "metadata": {},
   "source": [
    "All other 33 categories are binary with different degrees of class imbalances, some having very few positive labels"
   ]
  },
  {
   "cell_type": "code",
   "execution_count": 9,
   "metadata": {},
   "outputs": [
    {
     "name": "stdout",
     "output_type": "stream",
     "text": [
      "0    17486\n",
      "1     3560\n",
      "Name: request, dtype: int64\n",
      "0    12361\n",
      "1     8685\n",
      "Name: aid_related, dtype: int64\n",
      "0    19392\n",
      "1     1654\n",
      "Name: medical_help, dtype: int64\n",
      "0    19975\n",
      "1     1071\n",
      "Name: medical_products, dtype: int64\n",
      "0    20426\n",
      "1      620\n",
      "Name: search_and_rescue, dtype: int64\n",
      "0    20644\n",
      "1      402\n",
      "Name: security, dtype: int64\n",
      "0    20382\n",
      "1      664\n",
      "Name: military, dtype: int64\n",
      "0    19725\n",
      "1     1321\n",
      "Name: water, dtype: int64\n",
      "0    18717\n",
      "1     2329\n",
      "Name: food, dtype: int64\n",
      "0    19168\n",
      "1     1878\n",
      "Name: shelter, dtype: int64\n",
      "0    20723\n",
      "1      323\n",
      "Name: clothing, dtype: int64\n",
      "0    20559\n",
      "1      487\n",
      "Name: money, dtype: int64\n",
      "0    20794\n",
      "1      252\n",
      "Name: missing_people, dtype: int64\n",
      "0    20328\n",
      "1      718\n",
      "Name: refugees, dtype: int64\n",
      "0    20082\n",
      "1      964\n",
      "Name: death, dtype: int64\n",
      "0    18170\n",
      "1     2876\n",
      "Name: other_aid, dtype: int64\n",
      "0    19608\n",
      "1     1438\n",
      "Name: infrastructure_related, dtype: int64\n",
      "0    20098\n",
      "1      948\n",
      "Name: transport, dtype: int64\n",
      "0    19952\n",
      "1     1094\n",
      "Name: buildings, dtype: int64\n",
      "0    20597\n",
      "1      449\n",
      "Name: electricity, dtype: int64\n",
      "0    20906\n",
      "1      140\n",
      "Name: tools, dtype: int64\n",
      "0    20818\n",
      "1      228\n",
      "Name: hospitals, dtype: int64\n",
      "0    20947\n",
      "1       99\n",
      "Name: shops, dtype: int64\n",
      "0    20788\n",
      "1      258\n",
      "Name: aid_centers, dtype: int64\n",
      "0    20058\n",
      "1      988\n",
      "Name: other_infrastructure, dtype: int64\n",
      "0    15181\n",
      "1     5865\n",
      "Name: weather_related, dtype: int64\n",
      "0    19349\n",
      "1     1697\n",
      "Name: floods, dtype: int64\n",
      "0    19073\n",
      "1     1973\n",
      "Name: storm, dtype: int64\n",
      "0    20807\n",
      "1      239\n",
      "Name: fire, dtype: int64\n",
      "0    19067\n",
      "1     1979\n",
      "Name: earthquake, dtype: int64\n",
      "0    20621\n",
      "1      425\n",
      "Name: cold, dtype: int64\n",
      "0    19908\n",
      "1     1138\n",
      "Name: other_weather, dtype: int64\n",
      "0    17037\n",
      "1     4009\n",
      "Name: direct_report, dtype: int64\n"
     ]
    }
   ],
   "source": [
    "for c in label_cols:\n",
    "    print(train_df[c].value_counts())"
   ]
  },
  {
   "cell_type": "markdown",
   "metadata": {},
   "source": [
    "There are some duplicates that need to be dropped"
   ]
  },
  {
   "cell_type": "code",
   "execution_count": 10,
   "metadata": {},
   "outputs": [
    {
     "data": {
      "text/plain": [
       "(20992, 2569)"
      ]
     },
     "execution_count": 10,
     "metadata": {},
     "output_type": "execute_result"
    }
   ],
   "source": [
    "train_df.drop_duplicates(subset=['message'], inplace=True)\n",
    "valid_df.drop_duplicates(subset=['message'], inplace=True)\n",
    "len(train_df), len(valid_df)"
   ]
  },
  {
   "cell_type": "markdown",
   "metadata": {},
   "source": [
    "Just for convenience, I will rename the main text column"
   ]
  },
  {
   "cell_type": "code",
   "execution_count": 11,
   "metadata": {},
   "outputs": [],
   "source": [
    "train_df.rename(columns={'message':'text'}, inplace=True)\n",
    "valid_df.rename(columns={'message':'text'}, inplace=True)\n",
    "test_df.rename(columns={'message':'text'}, inplace=True)"
   ]
  },
  {
   "cell_type": "markdown",
   "metadata": {},
   "source": [
    "There are no missing values in any of the relevant columns"
   ]
  },
  {
   "cell_type": "code",
   "execution_count": 12,
   "metadata": {},
   "outputs": [
    {
     "name": "stdout",
     "output_type": "stream",
     "text": [
      "Missing values in training set: 0\n",
      "Missing values in validation set: 0\n",
      "Missing values in test set: 0\n"
     ]
    }
   ],
   "source": [
    "print(f\"Missing values in training set: {train_df[['text']+label_cols].isna().sum().sum()}\")\n",
    "print(f\"Missing values in validation set: {valid_df[['text']+label_cols].isna().sum().sum()}\")\n",
    "print(f\"Missing values in test set: {test_df[['text']+label_cols].isna().sum().sum()}\")"
   ]
  },
  {
   "cell_type": "markdown",
   "metadata": {},
   "source": [
    "Since some rows have no label, we'll need to add a none class. \n",
    "\n",
    "**Note: Here I make the important assumption that if a record has no disaster label, it is not a post about any disaster. However, in a real-life application, this assumption of course would need to be verified with the creator of the dataset**"
   ]
  },
  {
   "cell_type": "code",
   "execution_count": 13,
   "metadata": {},
   "outputs": [],
   "source": [
    "train_df['none'] = 1-train_df[label_cols].max(axis=1)\n",
    "valid_df['none'] = 1-valid_df[label_cols].max(axis=1)\n",
    "test_df['none'] = 1-test_df[label_cols].max(axis=1)"
   ]
  },
  {
   "cell_type": "code",
   "execution_count": 14,
   "metadata": {},
   "outputs": [
    {
     "data": {
      "text/plain": [
       "0    11720\n",
       "1     9272\n",
       "Name: none, dtype: int64"
      ]
     },
     "execution_count": 14,
     "metadata": {},
     "output_type": "execute_result"
    }
   ],
   "source": [
    "train_df['none'].value_counts()"
   ]
  },
  {
   "cell_type": "code",
   "execution_count": 15,
   "metadata": {},
   "outputs": [
    {
     "data": {
      "text/plain": [
       "0    1397\n",
       "1    1172\n",
       "Name: none, dtype: int64"
      ]
     },
     "execution_count": 15,
     "metadata": {},
     "output_type": "execute_result"
    }
   ],
   "source": [
    "valid_df['none'].value_counts()"
   ]
  },
  {
   "cell_type": "code",
   "execution_count": 16,
   "metadata": {},
   "outputs": [
    {
     "data": {
      "text/plain": [
       "0    1649\n",
       "1     980\n",
       "Name: none, dtype: int64"
      ]
     },
     "execution_count": 16,
     "metadata": {},
     "output_type": "execute_result"
    }
   ],
   "source": [
    "test_df['none'].value_counts()"
   ]
  },
  {
   "cell_type": "markdown",
   "metadata": {},
   "source": [
    "## Text lenghts"
   ]
  },
  {
   "cell_type": "markdown",
   "metadata": {},
   "source": [
    "Before moving on to modeling, let's quickly explore text lengths to see what we are dealing with"
   ]
  },
  {
   "cell_type": "markdown",
   "metadata": {},
   "source": [
    "I define a very simple tokenizer using regex that's not the same as the tokenizer used below. Nevertheless it will give a good indication of how long are texts are approximately"
   ]
  },
  {
   "cell_type": "code",
   "execution_count": 17,
   "metadata": {},
   "outputs": [],
   "source": [
    "import re, string\n",
    "re_tok = re.compile(f'([{string.punctuation}“”¨«»®´·º½¾¿¡§£₤‘’])')\n",
    "def tokenize(s): return re_tok.sub(r' \\1 ', s).split()"
   ]
  },
  {
   "cell_type": "code",
   "execution_count": 18,
   "metadata": {},
   "outputs": [
    {
     "data": {
      "text/plain": [
       "26190"
      ]
     },
     "execution_count": 18,
     "metadata": {},
     "output_type": "execute_result"
    }
   ],
   "source": [
    "texts = list(train_df.text.values) + list(valid_df.text.values) + list(test_df.text.values)\n",
    "len(texts)"
   ]
  },
  {
   "cell_type": "code",
   "execution_count": 19,
   "metadata": {},
   "outputs": [],
   "source": [
    "lens = []\n",
    "for t in texts:\n",
    "    lens.append(len(tokenize(t)))\n",
    "lens = np.array(lens)"
   ]
  },
  {
   "cell_type": "code",
   "execution_count": 20,
   "metadata": {},
   "outputs": [
    {
     "name": "stdout",
     "output_type": "stream",
     "text": [
      "Average text length: 28.458495609011074\n"
     ]
    }
   ],
   "source": [
    "print(f'Average text length: {np.mean(lens)}')"
   ]
  },
  {
   "cell_type": "code",
   "execution_count": 21,
   "metadata": {},
   "outputs": [],
   "source": [
    "import seaborn as sns"
   ]
  },
  {
   "cell_type": "code",
   "execution_count": 22,
   "metadata": {},
   "outputs": [
    {
     "name": "stderr",
     "output_type": "stream",
     "text": [
      "/usr/local/lib/python3.6/dist-packages/seaborn/distributions.py:2551: FutureWarning: `distplot` is a deprecated function and will be removed in a future version. Please adapt your code to use either `displot` (a figure-level function with similar flexibility) or `histplot` (an axes-level function for histograms).\n",
      "  warnings.warn(msg, FutureWarning)\n"
     ]
    },
    {
     "data": {
      "image/png": "[encoded data removed]",
      "text/plain": [
       "<Figure size 432x288 with 1 Axes>"
      ]
     },
     "metadata": {
      "needs_background": "light"
     },
     "output_type": "display_data"
    }
   ],
   "source": [
    "sns.distplot(lens).set_title('Text lengths');"
   ]
  },
  {
   "cell_type": "code",
   "execution_count": 23,
   "metadata": {},
   "outputs": [
    {
     "name": "stdout",
     "output_type": "stream",
     "text": [
      "Maximum text length: 1989\n"
     ]
    }
   ],
   "source": [
    "print(f'Maximum text length: {np.max(lens)}')"
   ]
  },
  {
   "cell_type": "code",
   "execution_count": 24,
   "metadata": {},
   "outputs": [
    {
     "name": "stdout",
     "output_type": "stream",
     "text": [
      "Text length - 95th percentile: 53.0\n"
     ]
    }
   ],
   "source": [
    "print(f'Text length - 95th percentile: {np.percentile(lens, 95)}')"
   ]
  },
  {
   "cell_type": "markdown",
   "metadata": {},
   "source": [
    "The vast majority of texts are very short, with the exception of a few very long texts"
   ]
  },
  {
   "cell_type": "code",
   "execution_count": 25,
   "metadata": {},
   "outputs": [
    {
     "name": "stderr",
     "output_type": "stream",
     "text": [
      "/usr/local/lib/python3.6/dist-packages/seaborn/distributions.py:2551: FutureWarning: `distplot` is a deprecated function and will be removed in a future version. Please adapt your code to use either `displot` (a figure-level function with similar flexibility) or `histplot` (an axes-level function for histograms).\n",
      "  warnings.warn(msg, FutureWarning)\n"
     ]
    },
    {
     "data": {
      "image/png": "[encoded data removed]",
      "text/plain": [
       "<Figure size 432x288 with 1 Axes>"
      ]
     },
     "metadata": {
      "needs_background": "light"
     },
     "output_type": "display_data"
    }
   ],
   "source": [
    "sns.distplot(lens[lens<=100]).set_title('Text lengths - less than 100');"
   ]
  },
  {
   "cell_type": "markdown",
   "metadata": {},
   "source": [
    "Anyway, since fastai can easily handle varying text lengths by creating batches according to length (with some randomness for training and none for validation/test sets) I leave the texts as is for now."
   ]
  },
  {
   "cell_type": "markdown",
   "metadata": {},
   "source": [
    "## Step 1: Language model fine-tuning"
   ]
  },
  {
   "cell_type": "markdown",
   "metadata": {},
   "source": [
    "Before moving on to training a text classifier, I will fine-tune a pre-trained Wikitext 103 language model on the corpus of the Multilingual Disaster Response Messages dataset."
   ]
  },
  {
   "cell_type": "markdown",
   "metadata": {},
   "source": [
    "Since the dataset is quite small and I won't make use of any labels at this stage, I will use all texts for language model fine-tuning"
   ]
  },
  {
   "cell_type": "code",
   "execution_count": 26,
   "metadata": {},
   "outputs": [
    {
     "name": "stdout",
     "output_type": "stream",
     "text": [
      "Total number of documents: 26190\n"
     ]
    }
   ],
   "source": [
    "df = pd.concat([train_df, valid_df, test_df]).reset_index(drop=True)\n",
    "print(f'Total number of documents: {len(df)}')"
   ]
  },
  {
   "cell_type": "markdown",
   "metadata": {},
   "source": [
    "Define batch size and sequence length for backpropagation through time"
   ]
  },
  {
   "cell_type": "code",
   "execution_count": 27,
   "metadata": {},
   "outputs": [],
   "source": [
    "bs, sl = 128, 80"
   ]
  },
  {
   "cell_type": "markdown",
   "metadata": {},
   "source": [
    "Create dataloaders with fastai's DataBlock API using a random validation split of 10%. \n",
    "\n",
    "Note that the fastai library takes care of text pre-processing behind the scenes, specifically:\n",
    "- minimal clean up \n",
    "- tokenization using spacy's tokenizer\n",
    "- numericalization and vocab creation \n",
    "- training/validation split\n",
    "- creating dependent and independent variables for language modelling"
   ]
  },
  {
   "cell_type": "code",
   "execution_count": 28,
   "metadata": {},
   "outputs": [],
   "source": [
    "dblock_lm = DataBlock(blocks=(TextBlock.from_df('text', seq_len=sl, is_lm=True)),\n",
    "                      get_x=ColReader('text'),\n",
    "                      splitter=RandomSplitter(0.1))"
   ]
  },
  {
   "cell_type": "code",
   "execution_count": 29,
   "metadata": {},
   "outputs": [
    {
     "data": {
      "text/html": [],
      "text/plain": [
       "<IPython.core.display.HTML object>"
      ]
     },
     "metadata": {},
     "output_type": "display_data"
    }
   ],
   "source": [
    "dls_lm = dblock_lm.dataloaders(df, bs=bs, seq_len=sl)"
   ]
  },
  {
   "cell_type": "code",
   "execution_count": 30,
   "metadata": {},
   "outputs": [
    {
     "name": "stdout",
     "output_type": "stream",
     "text": [
      "Training set size: 23571\n",
      "Validation set size: 2619\n"
     ]
    }
   ],
   "source": [
    "print(f'Training set size: {len(dls_lm.train_ds)}')\n",
    "print(f'Validation set size: {len(dls_lm.valid_ds)}')"
   ]
  },
  {
   "cell_type": "code",
   "execution_count": 31,
   "metadata": {},
   "outputs": [
    {
     "name": "stdout",
     "output_type": "stream",
     "text": [
      "Vocabulary size: 12152\n"
     ]
    }
   ],
   "source": [
    "print(f'Vocabulary size: {len(dls_lm.vocab)}')"
   ]
  },
  {
   "cell_type": "markdown",
   "metadata": {},
   "source": [
    "Let's have a look at some examples. One can see that the dependent variable on the right is the input text shifted by one token to the right"
   ]
  },
  {
   "cell_type": "code",
   "execution_count": 32,
   "metadata": {},
   "outputs": [
    {
     "data": {
      "text/html": [
       "<table border=\"1\" class=\"dataframe\">\n",
       "  <thead>\n",
       "    <tr style=\"text-align: right;\">\n",
       "      <th></th>\n",
       "      <th>text</th>\n",
       "      <th>text_</th>\n",
       "    </tr>\n",
       "  </thead>\n",
       "  <tbody>\n",
       "    <tr>\n",
       "      <th>0</th>\n",
       "      <td>xxbos xxmaj according to xxmaj rwanda 's ministry of lands and environment , earthquakes are common in the western xxmaj great xxmaj rift xxmaj valley due to the presence of a seismically active fault line straddling western xxmaj uganda , eastern xxmaj democratic xxmaj republic of xxmaj congo , xxmaj rwanda and xxmaj tanzania . xxbos xxmaj warnings have been issued at several ports in xxmaj tamil xxmaj nadu and xxmaj andhra xxmaj pradesh with rough seas and wind squalls</td>\n",
       "      <td>xxmaj according to xxmaj rwanda 's ministry of lands and environment , earthquakes are common in the western xxmaj great xxmaj rift xxmaj valley due to the presence of a seismically active fault line straddling western xxmaj uganda , eastern xxmaj democratic xxmaj republic of xxmaj congo , xxmaj rwanda and xxmaj tanzania . xxbos xxmaj warnings have been issued at several ports in xxmaj tamil xxmaj nadu and xxmaj andhra xxmaj pradesh with rough seas and wind squalls of</td>\n",
       "    </tr>\n",
       "    <tr>\n",
       "      <th>1</th>\n",
       "      <td>his office in the western city of xxmaj xxunk . xxbos xxmaj we need shelter in xxunk xxunk cross bb blanc street xxbos xxmaj the xxmaj pentagon was reported as saying on 21st xxmaj december that it was sending 10 experimental \" xxunk \" bombs to xxmaj afghanistan to blast the air out of caves and underground facilities . xxbos xxup dec member agencies are urgently seeking to increase their work to help those at risk survive and put their</td>\n",
       "      <td>office in the western city of xxmaj xxunk . xxbos xxmaj we need shelter in xxunk xxunk cross bb blanc street xxbos xxmaj the xxmaj pentagon was reported as saying on 21st xxmaj december that it was sending 10 experimental \" xxunk \" bombs to xxmaj afghanistan to blast the air out of caves and underground facilities . xxbos xxup dec member agencies are urgently seeking to increase their work to help those at risk survive and put their lives</td>\n",
       "    </tr>\n",
       "    <tr>\n",
       "      <th>2</th>\n",
       "      <td>unidentified gunmen shot dead a xxmaj muslim civilian at xxmaj xxunk xxmaj lane in xxmaj xxunk , a xxunk about 06 km off the xxmaj trincomalee town . xxbos xxunk yes unless we continue to be without power . # xxunk # blackout # xxmaj sandy xxbos a storm is a coming xxunk xxmaj waterway xxmaj ferry xxmaj terminal xxmaj wall xxmaj street / xxmaj pier 11 http : / / t.co / xxunk get much more xxunk , the</td>\n",
       "      <td>gunmen shot dead a xxmaj muslim civilian at xxmaj xxunk xxmaj lane in xxmaj xxunk , a xxunk about 06 km off the xxmaj trincomalee town . xxbos xxunk yes unless we continue to be without power . # xxunk # blackout # xxmaj sandy xxbos a storm is a coming xxunk xxmaj waterway xxmaj ferry xxmaj terminal xxmaj wall xxmaj street / xxmaj pier 11 http : / / t.co / xxunk get much more xxunk , the xxunk</td>\n",
       "    </tr>\n",
       "  </tbody>\n",
       "</table>"
      ],
      "text/plain": [
       "<IPython.core.display.HTML object>"
      ]
     },
     "metadata": {},
     "output_type": "display_data"
    }
   ],
   "source": [
    "dls_lm.show_batch(max_n=3)"
   ]
  },
  {
   "cell_type": "markdown",
   "metadata": {},
   "source": [
    "Setting up fastai learner with dataloaders, AWD-LSTM architecture, default dropout, and accuracy and perplexity metrics. Also, in order to speed up training I will use mixed-precision training using the `to_fp16()` callback. By default, fastai uses `pretrained=True`, which means a pre-trained Wikitext 103 language model is loaded behind the scenes."
   ]
  },
  {
   "cell_type": "code",
   "execution_count": 33,
   "metadata": {},
   "outputs": [],
   "source": [
    "learn = language_model_learner(dls_lm, AWD_LSTM, drop_mult=1.0, metrics=[accuracy, Perplexity()]).to_fp16()"
   ]
  },
  {
   "cell_type": "markdown",
   "metadata": {},
   "source": [
    "Picking the learning rate where the learning rate finder curve is the steppest"
   ]
  },
  {
   "cell_type": "code",
   "execution_count": 34,
   "metadata": {},
   "outputs": [
    {
     "data": {
      "text/html": [],
      "text/plain": [
       "<IPython.core.display.HTML object>"
      ]
     },
     "metadata": {},
     "output_type": "display_data"
    },
    {
     "data": {
      "text/plain": [
       "SuggestedLRs(lr_min=0.03019951581954956, lr_steep=0.05754399299621582)"
      ]
     },
     "execution_count": 34,
     "metadata": {},
     "output_type": "execute_result"
    },
    {
     "data": {
      "image/png": "[encoded data removed]",
      "text/plain": [
       "<Figure size 432x288 with 1 Axes>"
      ]
     },
     "metadata": {
      "needs_background": "light"
     },
     "output_type": "display_data"
    }
   ],
   "source": [
    "learn.lr_find()"
   ]
  },
  {
   "cell_type": "markdown",
   "metadata": {},
   "source": [
    "`fine_tune` first trains the embedding layer for one epoch with the rest of the model fixed, then unfreezes all parameters and fine-tunes the entire model"
   ]
  },
  {
   "cell_type": "code",
   "execution_count": 35,
   "metadata": {},
   "outputs": [
    {
     "data": {
      "text/html": [
       "<table border=\"1\" class=\"dataframe\">\n",
       "  <thead>\n",
       "    <tr style=\"text-align: left;\">\n",
       "      <th>epoch</th>\n",
       "      <th>train_loss</th>\n",
       "      <th>valid_loss</th>\n",
       "      <th>accuracy</th>\n",
       "      <th>perplexity</th>\n",
       "      <th>time</th>\n",
       "    </tr>\n",
       "  </thead>\n",
       "  <tbody>\n",
       "    <tr>\n",
       "      <td>0</td>\n",
       "      <td>4.595785</td>\n",
       "      <td>4.327098</td>\n",
       "      <td>0.256053</td>\n",
       "      <td>75.724205</td>\n",
       "      <td>00:46</td>\n",
       "    </tr>\n",
       "  </tbody>\n",
       "</table>"
      ],
      "text/plain": [
       "<IPython.core.display.HTML object>"
      ]
     },
     "metadata": {},
     "output_type": "display_data"
    },
    {
     "data": {
      "text/html": [
       "<table border=\"1\" class=\"dataframe\">\n",
       "  <thead>\n",
       "    <tr style=\"text-align: left;\">\n",
       "      <th>epoch</th>\n",
       "      <th>train_loss</th>\n",
       "      <th>valid_loss</th>\n",
       "      <th>accuracy</th>\n",
       "      <th>perplexity</th>\n",
       "      <th>time</th>\n",
       "    </tr>\n",
       "  </thead>\n",
       "  <tbody>\n",
       "    <tr>\n",
       "      <td>0</td>\n",
       "      <td>3.991463</td>\n",
       "      <td>3.736517</td>\n",
       "      <td>0.323928</td>\n",
       "      <td>41.951614</td>\n",
       "      <td>00:51</td>\n",
       "    </tr>\n",
       "    <tr>\n",
       "      <td>1</td>\n",
       "      <td>3.866527</td>\n",
       "      <td>3.785379</td>\n",
       "      <td>0.310167</td>\n",
       "      <td>44.052380</td>\n",
       "      <td>00:52</td>\n",
       "    </tr>\n",
       "    <tr>\n",
       "      <td>2</td>\n",
       "      <td>3.784130</td>\n",
       "      <td>3.807200</td>\n",
       "      <td>0.312047</td>\n",
       "      <td>45.024216</td>\n",
       "      <td>00:51</td>\n",
       "    </tr>\n",
       "    <tr>\n",
       "      <td>3</td>\n",
       "      <td>3.689517</td>\n",
       "      <td>3.732308</td>\n",
       "      <td>0.322022</td>\n",
       "      <td>41.775402</td>\n",
       "      <td>00:52</td>\n",
       "    </tr>\n",
       "    <tr>\n",
       "      <td>4</td>\n",
       "      <td>3.571326</td>\n",
       "      <td>3.688126</td>\n",
       "      <td>0.330191</td>\n",
       "      <td>39.969887</td>\n",
       "      <td>00:57</td>\n",
       "    </tr>\n",
       "    <tr>\n",
       "      <td>5</td>\n",
       "      <td>3.437598</td>\n",
       "      <td>3.639495</td>\n",
       "      <td>0.336882</td>\n",
       "      <td>38.072609</td>\n",
       "      <td>00:58</td>\n",
       "    </tr>\n",
       "    <tr>\n",
       "      <td>6</td>\n",
       "      <td>3.304376</td>\n",
       "      <td>3.594979</td>\n",
       "      <td>0.344750</td>\n",
       "      <td>36.414928</td>\n",
       "      <td>00:55</td>\n",
       "    </tr>\n",
       "    <tr>\n",
       "      <td>7</td>\n",
       "      <td>3.163026</td>\n",
       "      <td>3.578991</td>\n",
       "      <td>0.348934</td>\n",
       "      <td>35.837376</td>\n",
       "      <td>00:51</td>\n",
       "    </tr>\n",
       "    <tr>\n",
       "      <td>8</td>\n",
       "      <td>3.055540</td>\n",
       "      <td>3.577392</td>\n",
       "      <td>0.350558</td>\n",
       "      <td>35.780090</td>\n",
       "      <td>00:51</td>\n",
       "    </tr>\n",
       "    <tr>\n",
       "      <td>9</td>\n",
       "      <td>2.975360</td>\n",
       "      <td>3.581739</td>\n",
       "      <td>0.350329</td>\n",
       "      <td>35.935986</td>\n",
       "      <td>00:51</td>\n",
       "    </tr>\n",
       "  </tbody>\n",
       "</table>"
      ],
      "text/plain": [
       "<IPython.core.display.HTML object>"
      ]
     },
     "metadata": {},
     "output_type": "display_data"
    }
   ],
   "source": [
    "learn.fine_tune(10, 6e-2, wd=0.1)"
   ]
  },
  {
   "cell_type": "markdown",
   "metadata": {},
   "source": [
    "Saving the encoder of the model for creating text classifiers below"
   ]
  },
  {
   "cell_type": "code",
   "execution_count": 36,
   "metadata": {},
   "outputs": [],
   "source": [
    "learn.save_encoder('disaster_lm_enc')"
   ]
  },
  {
   "cell_type": "markdown",
   "metadata": {},
   "source": [
    "...and the vocab that the model was trained on"
   ]
  },
  {
   "cell_type": "code",
   "execution_count": 37,
   "metadata": {},
   "outputs": [],
   "source": [
    "output = open('dls_lm.pkl', 'wb')\n",
    "pickle.dump(dls_lm, output)\n",
    "output.close()"
   ]
  },
  {
   "cell_type": "markdown",
   "metadata": {},
   "source": [
    "## Step 2: Simple disaster classification"
   ]
  },
  {
   "cell_type": "markdown",
   "metadata": {},
   "source": [
    "Before building a text classifier for all classes, I want to build a model that simply predicts if a given document has any label or none. In other words, that's the 'none' column I created above."
   ]
  },
  {
   "cell_type": "markdown",
   "metadata": {},
   "source": [
    "Loading the vocab from step 1"
   ]
  },
  {
   "cell_type": "code",
   "execution_count": 42,
   "metadata": {},
   "outputs": [],
   "source": [
    "pkl_file = open('dls_lm.pkl', 'rb')\n",
    "dls_lm = pickle.load(pkl_file)\n",
    "pkl_file.close()"
   ]
  },
  {
   "cell_type": "code",
   "execution_count": 43,
   "metadata": {},
   "outputs": [],
   "source": [
    "train_df['is_valid'] = False\n",
    "valid_df['is_valid'] = True\n",
    "df = pd.concat([train_df, valid_df]).reset_index(drop=True)"
   ]
  },
  {
   "cell_type": "code",
   "execution_count": 44,
   "metadata": {},
   "outputs": [],
   "source": [
    "dblock = DataBlock(blocks=(TextBlock.from_df('text', seq_len=sl, vocab=dls_lm.vocab), CategoryBlock),\n",
    "                      get_x=ColReader('text'),\n",
    "                      get_y=ColReader('none'),\n",
    "                      splitter=ColSplitter('is_valid'))"
   ]
  },
  {
   "cell_type": "code",
   "execution_count": 45,
   "metadata": {},
   "outputs": [
    {
     "data": {
      "text/html": [],
      "text/plain": [
       "<IPython.core.display.HTML object>"
      ]
     },
     "metadata": {},
     "output_type": "display_data"
    }
   ],
   "source": [
    "dls_cls = dblock.dataloaders(df, bs=bs, seq_len=sl)"
   ]
  },
  {
   "cell_type": "code",
   "execution_count": 46,
   "metadata": {},
   "outputs": [
    {
     "name": "stdout",
     "output_type": "stream",
     "text": [
      "Training set size: 20992\n",
      "Validation set size: 2569\n"
     ]
    }
   ],
   "source": [
    "print(f'Training set size: {len(dls_cls.train_ds)}')\n",
    "print(f'Validation set size: {len(dls_cls.valid_ds)}')"
   ]
  },
  {
   "cell_type": "code",
   "execution_count": 61,
   "metadata": {},
   "outputs": [],
   "source": [
    "learn = text_classifier_learner(dls_cls, AWD_LSTM, drop_mult=0.5, metrics=[accuracy, F1Score(average='macro')]).to_fp16()"
   ]
  },
  {
   "cell_type": "code",
   "execution_count": 62,
   "metadata": {},
   "outputs": [],
   "source": [
    "learn.load_encoder('disaster_lm_enc');"
   ]
  },
  {
   "cell_type": "code",
   "execution_count": 63,
   "metadata": {},
   "outputs": [
    {
     "data": {
      "text/html": [],
      "text/plain": [
       "<IPython.core.display.HTML object>"
      ]
     },
     "metadata": {},
     "output_type": "display_data"
    },
    {
     "data": {
      "text/plain": [
       "SuggestedLRs(lr_min=0.025118863582611083, lr_steep=0.0004786300996784121)"
      ]
     },
     "execution_count": 63,
     "metadata": {},
     "output_type": "execute_result"
    },
    {
     "data": {
      "image/png": "[encoded data removed]",
      "text/plain": [
       "<Figure size 432x288 with 1 Axes>"
      ]
     },
     "metadata": {
      "needs_background": "light"
     },
     "output_type": "display_data"
    }
   ],
   "source": [
    "learn.lr_find()"
   ]
  },
  {
   "cell_type": "markdown",
   "metadata": {},
   "source": [
    "Define maximum learning rate for one-cycle training, number of epochs for each step of gradual unfreezing and amount weight decay. \n",
    "\n",
    "Gradual unfreezing was introduced in the ULMFiT paper and starts by only training the randomly initialized classification head, then unfreezing one layer after another before training the entire model."
   ]
  },
  {
   "cell_type": "code",
   "execution_count": 64,
   "metadata": {},
   "outputs": [],
   "source": [
    "lr, n_epoch, wd = 2e-2, 1, 0.01"
   ]
  },
  {
   "cell_type": "code",
   "execution_count": 65,
   "metadata": {},
   "outputs": [
    {
     "data": {
      "text/html": [
       "<table border=\"1\" class=\"dataframe\">\n",
       "  <thead>\n",
       "    <tr style=\"text-align: left;\">\n",
       "      <th>epoch</th>\n",
       "      <th>train_loss</th>\n",
       "      <th>valid_loss</th>\n",
       "      <th>accuracy</th>\n",
       "      <th>f1_score</th>\n",
       "      <th>time</th>\n",
       "    </tr>\n",
       "  </thead>\n",
       "  <tbody>\n",
       "    <tr>\n",
       "      <td>0</td>\n",
       "      <td>0.657334</td>\n",
       "      <td>0.479546</td>\n",
       "      <td>0.769171</td>\n",
       "      <td>0.761387</td>\n",
       "      <td>00:12</td>\n",
       "    </tr>\n",
       "  </tbody>\n",
       "</table>"
      ],
      "text/plain": [
       "<IPython.core.display.HTML object>"
      ]
     },
     "metadata": {},
     "output_type": "display_data"
    }
   ],
   "source": [
    "learn.fit_one_cycle(n_epoch, lr, wd=wd)"
   ]
  },
  {
   "cell_type": "code",
   "execution_count": 66,
   "metadata": {},
   "outputs": [
    {
     "data": {
      "text/html": [
       "<table border=\"1\" class=\"dataframe\">\n",
       "  <thead>\n",
       "    <tr style=\"text-align: left;\">\n",
       "      <th>epoch</th>\n",
       "      <th>train_loss</th>\n",
       "      <th>valid_loss</th>\n",
       "      <th>accuracy</th>\n",
       "      <th>f1_score</th>\n",
       "      <th>time</th>\n",
       "    </tr>\n",
       "  </thead>\n",
       "  <tbody>\n",
       "    <tr>\n",
       "      <td>0</td>\n",
       "      <td>0.541488</td>\n",
       "      <td>0.451184</td>\n",
       "      <td>0.786687</td>\n",
       "      <td>0.780915</td>\n",
       "      <td>00:14</td>\n",
       "    </tr>\n",
       "  </tbody>\n",
       "</table>"
      ],
      "text/plain": [
       "<IPython.core.display.HTML object>"
      ]
     },
     "metadata": {},
     "output_type": "display_data"
    }
   ],
   "source": [
    "learn.freeze_to(-2)\n",
    "learn.fit_one_cycle(n_epoch, slice((lr/2)/(2.6**4),lr/2), wd=wd)"
   ]
  },
  {
   "cell_type": "code",
   "execution_count": 67,
   "metadata": {},
   "outputs": [
    {
     "data": {
      "text/html": [
       "<table border=\"1\" class=\"dataframe\">\n",
       "  <thead>\n",
       "    <tr style=\"text-align: left;\">\n",
       "      <th>epoch</th>\n",
       "      <th>train_loss</th>\n",
       "      <th>valid_loss</th>\n",
       "      <th>accuracy</th>\n",
       "      <th>f1_score</th>\n",
       "      <th>time</th>\n",
       "    </tr>\n",
       "  </thead>\n",
       "  <tbody>\n",
       "    <tr>\n",
       "      <td>0</td>\n",
       "      <td>0.471611</td>\n",
       "      <td>0.437064</td>\n",
       "      <td>0.792137</td>\n",
       "      <td>0.786174</td>\n",
       "      <td>00:19</td>\n",
       "    </tr>\n",
       "  </tbody>\n",
       "</table>"
      ],
      "text/plain": [
       "<IPython.core.display.HTML object>"
      ]
     },
     "metadata": {},
     "output_type": "display_data"
    }
   ],
   "source": [
    "learn.freeze_to(-3)\n",
    "learn.fit_one_cycle(n_epoch, slice((lr/4)/(2.6**4),lr/4), wd=wd)"
   ]
  },
  {
   "cell_type": "code",
   "execution_count": 68,
   "metadata": {},
   "outputs": [
    {
     "data": {
      "text/html": [
       "<table border=\"1\" class=\"dataframe\">\n",
       "  <thead>\n",
       "    <tr style=\"text-align: left;\">\n",
       "      <th>epoch</th>\n",
       "      <th>train_loss</th>\n",
       "      <th>valid_loss</th>\n",
       "      <th>accuracy</th>\n",
       "      <th>f1_score</th>\n",
       "      <th>time</th>\n",
       "    </tr>\n",
       "  </thead>\n",
       "  <tbody>\n",
       "    <tr>\n",
       "      <td>0</td>\n",
       "      <td>0.431984</td>\n",
       "      <td>0.444675</td>\n",
       "      <td>0.799144</td>\n",
       "      <td>0.792931</td>\n",
       "      <td>00:24</td>\n",
       "    </tr>\n",
       "    <tr>\n",
       "      <td>1</td>\n",
       "      <td>0.386458</td>\n",
       "      <td>0.453244</td>\n",
       "      <td>0.803036</td>\n",
       "      <td>0.797654</td>\n",
       "      <td>00:25</td>\n",
       "    </tr>\n",
       "  </tbody>\n",
       "</table>"
      ],
      "text/plain": [
       "<IPython.core.display.HTML object>"
      ]
     },
     "metadata": {},
     "output_type": "display_data"
    }
   ],
   "source": [
    "learn.unfreeze()\n",
    "learn.fit_one_cycle(n_epoch*2, slice((lr/10)/(2.6**4),lr/10), wd=wd)"
   ]
  },
  {
   "cell_type": "markdown",
   "metadata": {},
   "source": [
    "Looking at validation set results in detail"
   ]
  },
  {
   "cell_type": "code",
   "execution_count": 94,
   "metadata": {},
   "outputs": [
    {
     "data": {
      "text/html": [],
      "text/plain": [
       "<IPython.core.display.HTML object>"
      ]
     },
     "metadata": {},
     "output_type": "display_data"
    }
   ],
   "source": [
    "probs, targs = learn.get_preds()"
   ]
  },
  {
   "cell_type": "code",
   "execution_count": 95,
   "metadata": {},
   "outputs": [
    {
     "name": "stdout",
     "output_type": "stream",
     "text": [
      "              precision    recall  f1-score   support\n",
      "\n",
      "           0       0.78      0.89      0.83      1397\n",
      "           1       0.84      0.70      0.76      1172\n",
      "\n",
      "    accuracy                           0.80      2569\n",
      "   macro avg       0.81      0.79      0.80      2569\n",
      "weighted avg       0.81      0.80      0.80      2569\n",
      "\n"
     ]
    }
   ],
   "source": [
    "print(classification_report(targs.numpy(), probs.argmax(1).numpy()))"
   ]
  },
  {
   "cell_type": "markdown",
   "metadata": {},
   "source": [
    "We can see a very good performance on the validation set. A recall of 0.89 for class 0 means that nearly 90% of documents with a label were correctly classified as such, which is the metric we should most care about. Let's see if the results hold up for the test set."
   ]
  },
  {
   "cell_type": "code",
   "execution_count": 108,
   "metadata": {},
   "outputs": [],
   "source": [
    "test_dl = learn.dls.test_dl(test_df)"
   ]
  },
  {
   "cell_type": "code",
   "execution_count": 109,
   "metadata": {},
   "outputs": [
    {
     "data": {
      "text/html": [],
      "text/plain": [
       "<IPython.core.display.HTML object>"
      ]
     },
     "metadata": {},
     "output_type": "display_data"
    }
   ],
   "source": [
    "probs,_ = learn.get_preds(dl=test_dl)"
   ]
  },
  {
   "cell_type": "code",
   "execution_count": 110,
   "metadata": {},
   "outputs": [
    {
     "data": {
      "text/plain": [
       "2629"
      ]
     },
     "execution_count": 110,
     "metadata": {},
     "output_type": "execute_result"
    }
   ],
   "source": [
    "preds = probs.argmax(1)\n",
    "len(preds)"
   ]
  },
  {
   "cell_type": "code",
   "execution_count": 111,
   "metadata": {},
   "outputs": [
    {
     "name": "stdout",
     "output_type": "stream",
     "text": [
      "              precision    recall  f1-score   support\n",
      "\n",
      "           0       0.87      0.85      0.86      1649\n",
      "           1       0.76      0.79      0.77       980\n",
      "\n",
      "    accuracy                           0.83      2629\n",
      "   macro avg       0.82      0.82      0.82      2629\n",
      "weighted avg       0.83      0.83      0.83      2629\n",
      "\n"
     ]
    }
   ],
   "source": [
    "print(classification_report(test_df['none'].values, preds.numpy()))"
   ]
  },
  {
   "cell_type": "markdown",
   "metadata": {},
   "source": [
    "The recall on the test set is a bit lower, but 0.85 still is a very good performance"
   ]
  },
  {
   "cell_type": "markdown",
   "metadata": {},
   "source": [
    "Let's export the model for deployment"
   ]
  },
  {
   "cell_type": "code",
   "execution_count": 77,
   "metadata": {},
   "outputs": [],
   "source": [
    "learn.export()"
   ]
  },
  {
   "cell_type": "markdown",
   "metadata": {},
   "source": [
    "## Step 3: Multi-label classification"
   ]
  },
  {
   "cell_type": "markdown",
   "metadata": {},
   "source": [
    "Now I will turn to the much harder prediction problem of classifying 33 detailed classes with one model. Apart from a few tweaks to enable multi-label classification, the code is much the same as in step 2."
   ]
  },
  {
   "cell_type": "code",
   "execution_count": 112,
   "metadata": {},
   "outputs": [],
   "source": [
    "pkl_file = open('dls_lm.pkl', 'rb')\n",
    "dls_lm = pickle.load(pkl_file)\n",
    "pkl_file.close()"
   ]
  },
  {
   "cell_type": "markdown",
   "metadata": {},
   "source": [
    "Since I will use the first classifer to filter out documents without any label before applying the multi-label classifier, I need to remove all reviews without label from the training, validation and test sets."
   ]
  },
  {
   "cell_type": "code",
   "execution_count": 114,
   "metadata": {},
   "outputs": [
    {
     "data": {
      "text/plain": [
       "(11720, 1397, 1649)"
      ]
     },
     "execution_count": 114,
     "metadata": {},
     "output_type": "execute_result"
    }
   ],
   "source": [
    "train_df = train_df[train_df['none']==0].reset_index(drop=True)\n",
    "valid_df = valid_df[valid_df['none']==0].reset_index(drop=True)\n",
    "test_df = test_df[test_df['none']==0].reset_index(drop=True)\n",
    "len(train_df), len(valid_df), len(test_df)"
   ]
  },
  {
   "cell_type": "code",
   "execution_count": 226,
   "metadata": {},
   "outputs": [],
   "source": [
    "train_df['is_valid'] = False\n",
    "valid_df['is_valid'] = True\n",
    "df = pd.concat([train_df, valid_df]).reset_index(drop=True)"
   ]
  },
  {
   "cell_type": "markdown",
   "metadata": {},
   "source": [
    "In one more step, I will create one column with all labels for each document"
   ]
  },
  {
   "cell_type": "code",
   "execution_count": 227,
   "metadata": {},
   "outputs": [],
   "source": [
    "def create_label_col(df):\n",
    "    label_list = []\n",
    "    for i in range(len(df)):\n",
    "        labels = ''\n",
    "        for c in label_cols:\n",
    "            if df.loc[i,c] == 1:\n",
    "                if labels == '':\n",
    "                    labels = labels + str(c)\n",
    "                else:\n",
    "                    labels = labels + ' ' + str(c)\n",
    "        label_list.append(labels)\n",
    "    assert len(label_list) == len(df)\n",
    "    return label_list"
   ]
  },
  {
   "cell_type": "code",
   "execution_count": 228,
   "metadata": {},
   "outputs": [],
   "source": [
    "label_list = create_label_col(df)\n",
    "df['multi_label'] = label_list"
   ]
  },
  {
   "cell_type": "code",
   "execution_count": 229,
   "metadata": {},
   "outputs": [
    {
     "data": {
      "text/plain": [
       "['aid_related other_aid weather_related storm',\n",
       " 'weather_related storm',\n",
       " 'request aid_related water shelter direct_report',\n",
       " 'request aid_related medical_help medical_products water food other_aid infrastructure_related transport buildings other_infrastructure weather_related floods direct_report',\n",
       " 'request aid_related water direct_report']"
      ]
     },
     "execution_count": 229,
     "metadata": {},
     "output_type": "execute_result"
    }
   ],
   "source": [
    "label_list[:5]"
   ]
  },
  {
   "cell_type": "code",
   "execution_count": 230,
   "metadata": {},
   "outputs": [],
   "source": [
    "dblock = DataBlock(blocks=(TextBlock.from_df('text', seq_len=sl, vocab=dls_lm.vocab), MultiCategoryBlock),\n",
    "                      get_x=ColReader('text'),\n",
    "                      get_y=ColReader('multi_label', label_delim=' '),\n",
    "                      splitter=ColSplitter('is_valid'))"
   ]
  },
  {
   "cell_type": "code",
   "execution_count": 231,
   "metadata": {},
   "outputs": [
    {
     "data": {
      "text/html": [],
      "text/plain": [
       "<IPython.core.display.HTML object>"
      ]
     },
     "metadata": {},
     "output_type": "display_data"
    }
   ],
   "source": [
    "dls_cls = dblock.dataloaders(df, bs=bs, seq_len=sl)"
   ]
  },
  {
   "cell_type": "code",
   "execution_count": 232,
   "metadata": {},
   "outputs": [
    {
     "name": "stdout",
     "output_type": "stream",
     "text": [
      "Training set size: 11720\n",
      "Validation set size: 1397\n"
     ]
    }
   ],
   "source": [
    "print(f'Training set size: {len(dls_cls.train_ds)}')\n",
    "print(f'Validation set size: {len(dls_cls.valid_ds)}')"
   ]
  },
  {
   "cell_type": "markdown",
   "metadata": {},
   "source": [
    "Since the evaluation of disaster response messages is a very sensitive and critical endeavour, I set the threshold very low. This way, if the model has at lease *some* confidence that a class is present, it will be accepted."
   ]
  },
  {
   "cell_type": "code",
   "execution_count": 233,
   "metadata": {},
   "outputs": [],
   "source": [
    "thresh = 0.2\n",
    "accuracy_thresh = partial(accuracy_multi, thresh=thresh)\n",
    "f1_thresh = F1ScoreMulti(average='macro', thresh=thresh)\n",
    "metrics = [accuracy_thresh, f1_thresh]"
   ]
  },
  {
   "cell_type": "code",
   "execution_count": 234,
   "metadata": {},
   "outputs": [],
   "source": [
    "learn = text_classifier_learner(dls_cls, AWD_LSTM, drop_mult=0.5, metrics=metrics).to_fp16()"
   ]
  },
  {
   "cell_type": "code",
   "execution_count": 235,
   "metadata": {},
   "outputs": [],
   "source": [
    "learn.load_encoder('disaster_lm_enc');"
   ]
  },
  {
   "cell_type": "code",
   "execution_count": 236,
   "metadata": {},
   "outputs": [
    {
     "data": {
      "text/html": [],
      "text/plain": [
       "<IPython.core.display.HTML object>"
      ]
     },
     "metadata": {},
     "output_type": "display_data"
    },
    {
     "data": {
      "text/plain": [
       "SuggestedLRs(lr_min=0.10964782238006592, lr_steep=0.0691830962896347)"
      ]
     },
     "execution_count": 236,
     "metadata": {},
     "output_type": "execute_result"
    },
    {
     "data": {
      "image/png": "[encoded data removed]",
      "text/plain": [
       "<Figure size 432x288 with 1 Axes>"
      ]
     },
     "metadata": {
      "needs_background": "light"
     },
     "output_type": "display_data"
    }
   ],
   "source": [
    "learn.lr_find()"
   ]
  },
  {
   "cell_type": "code",
   "execution_count": 237,
   "metadata": {},
   "outputs": [],
   "source": [
    "lr, n_epoch, wd = 7e-2, 1, 0.01"
   ]
  },
  {
   "cell_type": "code",
   "execution_count": 238,
   "metadata": {},
   "outputs": [
    {
     "data": {
      "text/html": [
       "<table border=\"1\" class=\"dataframe\">\n",
       "  <thead>\n",
       "    <tr style=\"text-align: left;\">\n",
       "      <th>epoch</th>\n",
       "      <th>train_loss</th>\n",
       "      <th>valid_loss</th>\n",
       "      <th>accuracy_multi</th>\n",
       "      <th>f1_score</th>\n",
       "      <th>time</th>\n",
       "    </tr>\n",
       "  </thead>\n",
       "  <tbody>\n",
       "    <tr>\n",
       "      <td>0</td>\n",
       "      <td>0.420509</td>\n",
       "      <td>0.226203</td>\n",
       "      <td>0.891239</td>\n",
       "      <td>0.410004</td>\n",
       "      <td>00:07</td>\n",
       "    </tr>\n",
       "  </tbody>\n",
       "</table>"
      ],
      "text/plain": [
       "<IPython.core.display.HTML object>"
      ]
     },
     "metadata": {},
     "output_type": "display_data"
    }
   ],
   "source": [
    "learn.fit_one_cycle(n_epoch, lr, wd=wd)"
   ]
  },
  {
   "cell_type": "code",
   "execution_count": 239,
   "metadata": {},
   "outputs": [
    {
     "data": {
      "text/html": [
       "<table border=\"1\" class=\"dataframe\">\n",
       "  <thead>\n",
       "    <tr style=\"text-align: left;\">\n",
       "      <th>epoch</th>\n",
       "      <th>train_loss</th>\n",
       "      <th>valid_loss</th>\n",
       "      <th>accuracy_multi</th>\n",
       "      <th>f1_score</th>\n",
       "      <th>time</th>\n",
       "    </tr>\n",
       "  </thead>\n",
       "  <tbody>\n",
       "    <tr>\n",
       "      <td>0</td>\n",
       "      <td>0.245216</td>\n",
       "      <td>0.207718</td>\n",
       "      <td>0.901152</td>\n",
       "      <td>0.469845</td>\n",
       "      <td>00:09</td>\n",
       "    </tr>\n",
       "  </tbody>\n",
       "</table>"
      ],
      "text/plain": [
       "<IPython.core.display.HTML object>"
      ]
     },
     "metadata": {},
     "output_type": "display_data"
    }
   ],
   "source": [
    "learn.freeze_to(-2)\n",
    "learn.fit_one_cycle(n_epoch, slice((lr/2)/(2.6**4),lr/2), wd=wd)"
   ]
  },
  {
   "cell_type": "code",
   "execution_count": 240,
   "metadata": {},
   "outputs": [
    {
     "data": {
      "text/html": [
       "<table border=\"1\" class=\"dataframe\">\n",
       "  <thead>\n",
       "    <tr style=\"text-align: left;\">\n",
       "      <th>epoch</th>\n",
       "      <th>train_loss</th>\n",
       "      <th>valid_loss</th>\n",
       "      <th>accuracy_multi</th>\n",
       "      <th>f1_score</th>\n",
       "      <th>time</th>\n",
       "    </tr>\n",
       "  </thead>\n",
       "  <tbody>\n",
       "    <tr>\n",
       "      <td>0</td>\n",
       "      <td>0.208510</td>\n",
       "      <td>0.197499</td>\n",
       "      <td>0.909720</td>\n",
       "      <td>0.503707</td>\n",
       "      <td>00:12</td>\n",
       "    </tr>\n",
       "  </tbody>\n",
       "</table>"
      ],
      "text/plain": [
       "<IPython.core.display.HTML object>"
      ]
     },
     "metadata": {},
     "output_type": "display_data"
    }
   ],
   "source": [
    "learn.freeze_to(-3)\n",
    "learn.fit_one_cycle(n_epoch, slice((lr/4)/(2.6**4),lr/4), wd=wd)"
   ]
  },
  {
   "cell_type": "code",
   "execution_count": 241,
   "metadata": {},
   "outputs": [
    {
     "data": {
      "text/html": [
       "<table border=\"1\" class=\"dataframe\">\n",
       "  <thead>\n",
       "    <tr style=\"text-align: left;\">\n",
       "      <th>epoch</th>\n",
       "      <th>train_loss</th>\n",
       "      <th>valid_loss</th>\n",
       "      <th>accuracy_multi</th>\n",
       "      <th>f1_score</th>\n",
       "      <th>time</th>\n",
       "    </tr>\n",
       "  </thead>\n",
       "  <tbody>\n",
       "    <tr>\n",
       "      <td>0</td>\n",
       "      <td>0.194964</td>\n",
       "      <td>0.194242</td>\n",
       "      <td>0.913017</td>\n",
       "      <td>0.511478</td>\n",
       "      <td>00:15</td>\n",
       "    </tr>\n",
       "    <tr>\n",
       "      <td>1</td>\n",
       "      <td>0.188168</td>\n",
       "      <td>0.192489</td>\n",
       "      <td>0.914579</td>\n",
       "      <td>0.527072</td>\n",
       "      <td>00:15</td>\n",
       "    </tr>\n",
       "    <tr>\n",
       "      <td>2</td>\n",
       "      <td>0.179171</td>\n",
       "      <td>0.191317</td>\n",
       "      <td>0.913386</td>\n",
       "      <td>0.530661</td>\n",
       "      <td>00:15</td>\n",
       "    </tr>\n",
       "    <tr>\n",
       "      <td>3</td>\n",
       "      <td>0.169535</td>\n",
       "      <td>0.191881</td>\n",
       "      <td>0.909503</td>\n",
       "      <td>0.527831</td>\n",
       "      <td>00:15</td>\n",
       "    </tr>\n",
       "  </tbody>\n",
       "</table>"
      ],
      "text/plain": [
       "<IPython.core.display.HTML object>"
      ]
     },
     "metadata": {},
     "output_type": "display_data"
    }
   ],
   "source": [
    "learn.unfreeze()\n",
    "learn.fit_one_cycle(n_epoch*4, slice((lr/10)/(2.6**4),lr/10), wd=wd)"
   ]
  },
  {
   "cell_type": "code",
   "execution_count": 242,
   "metadata": {},
   "outputs": [
    {
     "data": {
      "text/html": [],
      "text/plain": [
       "<IPython.core.display.HTML object>"
      ]
     },
     "metadata": {},
     "output_type": "display_data"
    },
    {
     "data": {
      "text/plain": [
       "(torch.Size([1397, 33]), torch.Size([1397, 33]))"
      ]
     },
     "execution_count": 242,
     "metadata": {},
     "output_type": "execute_result"
    }
   ],
   "source": [
    "probs, targs = learn.get_preds()\n",
    "probs.shape, targs.shape"
   ]
  },
  {
   "cell_type": "code",
   "execution_count": 243,
   "metadata": {},
   "outputs": [],
   "source": [
    "preds = probs > thresh\n",
    "targs = targs.to(bool)"
   ]
  },
  {
   "cell_type": "code",
   "execution_count": 245,
   "metadata": {},
   "outputs": [
    {
     "name": "stdout",
     "output_type": "stream",
     "text": [
      "                        precision    recall  f1-score   support\n",
      "\n",
      "           aid_centers       0.31      0.31      0.31        36\n",
      "           aid_related       0.79      0.98      0.88      1048\n",
      "             buildings       0.53      0.72      0.61       126\n",
      "              clothing       0.58      0.48      0.52        46\n",
      "                  cold       0.52      0.62      0.56        60\n",
      "                 death       0.54      0.70      0.61       108\n",
      "         direct_report       0.68      0.84      0.75       457\n",
      "            earthquake       0.88      0.86      0.87       249\n",
      "           electricity       0.48      0.67      0.56        43\n",
      "                  fire       0.53      0.31      0.39        32\n",
      "                floods       0.56      0.70      0.62       214\n",
      "                  food       0.80      0.88      0.84       275\n",
      "             hospitals       0.38      0.30      0.33        37\n",
      "infrastructure_related       0.37      0.61      0.46       188\n",
      "          medical_help       0.57      0.69      0.63       213\n",
      "      medical_products       0.41      0.64      0.50       136\n",
      "              military       0.58      0.77      0.66        97\n",
      "        missing_people       0.20      0.10      0.13        31\n",
      "                 money       0.49      0.56      0.52        48\n",
      "             other_aid       0.40      0.70      0.51       352\n",
      "  other_infrastructure       0.31      0.49      0.38       121\n",
      "         other_weather       0.30      0.46      0.36       132\n",
      "              refugees       0.39      0.54      0.45        84\n",
      "               request       0.77      0.83      0.80       421\n",
      "     search_and_rescue       0.37      0.30      0.33        77\n",
      "              security       0.32      0.15      0.20        54\n",
      "               shelter       0.61      0.84      0.71       211\n",
      "                 shops       0.00      0.00      0.00        14\n",
      "                 storm       0.72      0.89      0.80       240\n",
      "                 tools       0.00      0.00      0.00        15\n",
      "             transport       0.46      0.46      0.46       125\n",
      "                 water       0.78      0.83      0.80       157\n",
      "       weather_related       0.82      0.91      0.86       707\n",
      "\n",
      "             micro avg       0.63      0.77      0.70      6154\n",
      "             macro avg       0.50      0.58      0.53      6154\n",
      "          weighted avg       0.64      0.77      0.70      6154\n",
      "           samples avg       0.67      0.83      0.70      6154\n",
      "\n"
     ]
    },
    {
     "name": "stderr",
     "output_type": "stream",
     "text": [
      "/usr/local/lib/python3.6/dist-packages/sklearn/metrics/_classification.py:1221: UndefinedMetricWarning: Precision and F-score are ill-defined and being set to 0.0 in labels with no predicted samples. Use `zero_division` parameter to control this behavior.\n",
      "  _warn_prf(average, modifier, msg_start, len(result))\n"
     ]
    }
   ],
   "source": [
    "print(classification_report(targs, preds, target_names=dls_cls.vocab[1]))"
   ]
  },
  {
   "cell_type": "markdown",
   "metadata": {},
   "source": [
    "Given the number of classes, I am not going to describe the results in detail. To sum it up, I would evaluate the performance as pretty good given the small amount of training data and the high number of classes.\n",
    "\n",
    "For some classes, e.g. aid_related, earthquake, food, storm or weather-related, the recall is very high and could probably be used in practice. For other classes, e.g. missing people, shops and tools, the classifier is not working at all. However, this is no surprise since those are the classes where we have nearly no labels available."
   ]
  },
  {
   "cell_type": "markdown",
   "metadata": {},
   "source": [
    "### Re-training and evaluating on test set"
   ]
  },
  {
   "cell_type": "markdown",
   "metadata": {},
   "source": [
    "Because the training set for the multi-label classification problem is very small, I will retrain the classifier on training and validation sets and evaluate on the test set. Let's see if performance holds up."
   ]
  },
  {
   "cell_type": "code",
   "execution_count": 246,
   "metadata": {},
   "outputs": [],
   "source": [
    "train_df['is_valid'] = False\n",
    "valid_df['is_valid'] = False\n",
    "test_df['is_valid'] = True\n",
    "df = pd.concat([train_df, valid_df, test_df]).reset_index(drop=True)"
   ]
  },
  {
   "cell_type": "code",
   "execution_count": 247,
   "metadata": {},
   "outputs": [],
   "source": [
    "label_list = create_label_col(df)\n",
    "df['multi_label'] = label_list"
   ]
  },
  {
   "cell_type": "code",
   "execution_count": 248,
   "metadata": {},
   "outputs": [],
   "source": [
    "dblock = DataBlock(blocks=(TextBlock.from_df('text', seq_len=sl, vocab=dls_lm.vocab), MultiCategoryBlock),\n",
    "                      get_x=ColReader('text'),\n",
    "                      get_y=ColReader('multi_label', label_delim=' '),\n",
    "                      splitter=ColSplitter('is_valid'))"
   ]
  },
  {
   "cell_type": "code",
   "execution_count": 249,
   "metadata": {},
   "outputs": [
    {
     "data": {
      "text/html": [],
      "text/plain": [
       "<IPython.core.display.HTML object>"
      ]
     },
     "metadata": {},
     "output_type": "display_data"
    }
   ],
   "source": [
    "dls_cls = dblock.dataloaders(df, bs=bs, seq_len=sl)"
   ]
  },
  {
   "cell_type": "code",
   "execution_count": 251,
   "metadata": {},
   "outputs": [
    {
     "name": "stdout",
     "output_type": "stream",
     "text": [
      "Training set size: 13117\n",
      "Test set size: 1649\n"
     ]
    }
   ],
   "source": [
    "print(f'Training set size: {len(dls_cls.train_ds)}')\n",
    "print(f'Test set size: {len(dls_cls.valid_ds)}')"
   ]
  },
  {
   "cell_type": "code",
   "execution_count": 252,
   "metadata": {},
   "outputs": [],
   "source": [
    "learn = text_classifier_learner(dls_cls, AWD_LSTM, drop_mult=0.5, metrics=metrics).to_fp16()"
   ]
  },
  {
   "cell_type": "code",
   "execution_count": 253,
   "metadata": {},
   "outputs": [],
   "source": [
    "learn.load_encoder('disaster_lm_enc');"
   ]
  },
  {
   "cell_type": "code",
   "execution_count": 254,
   "metadata": {},
   "outputs": [
    {
     "data": {
      "text/html": [
       "<table border=\"1\" class=\"dataframe\">\n",
       "  <thead>\n",
       "    <tr style=\"text-align: left;\">\n",
       "      <th>epoch</th>\n",
       "      <th>train_loss</th>\n",
       "      <th>valid_loss</th>\n",
       "      <th>accuracy_multi</th>\n",
       "      <th>f1_score</th>\n",
       "      <th>time</th>\n",
       "    </tr>\n",
       "  </thead>\n",
       "  <tbody>\n",
       "    <tr>\n",
       "      <td>0</td>\n",
       "      <td>0.399075</td>\n",
       "      <td>0.178525</td>\n",
       "      <td>0.898800</td>\n",
       "      <td>0.416585</td>\n",
       "      <td>00:08</td>\n",
       "    </tr>\n",
       "  </tbody>\n",
       "</table>"
      ],
      "text/plain": [
       "<IPython.core.display.HTML object>"
      ]
     },
     "metadata": {},
     "output_type": "display_data"
    }
   ],
   "source": [
    "learn.fit_one_cycle(n_epoch, lr, wd=wd)"
   ]
  },
  {
   "cell_type": "code",
   "execution_count": 255,
   "metadata": {},
   "outputs": [
    {
     "data": {
      "text/html": [
       "<table border=\"1\" class=\"dataframe\">\n",
       "  <thead>\n",
       "    <tr style=\"text-align: left;\">\n",
       "      <th>epoch</th>\n",
       "      <th>train_loss</th>\n",
       "      <th>valid_loss</th>\n",
       "      <th>accuracy_multi</th>\n",
       "      <th>f1_score</th>\n",
       "      <th>time</th>\n",
       "    </tr>\n",
       "  </thead>\n",
       "  <tbody>\n",
       "    <tr>\n",
       "      <td>0</td>\n",
       "      <td>0.237831</td>\n",
       "      <td>0.161469</td>\n",
       "      <td>0.908907</td>\n",
       "      <td>0.463480</td>\n",
       "      <td>00:09</td>\n",
       "    </tr>\n",
       "  </tbody>\n",
       "</table>"
      ],
      "text/plain": [
       "<IPython.core.display.HTML object>"
      ]
     },
     "metadata": {},
     "output_type": "display_data"
    }
   ],
   "source": [
    "learn.freeze_to(-2)\n",
    "learn.fit_one_cycle(n_epoch, slice((lr/2)/(2.6**4),lr/2), wd=wd)"
   ]
  },
  {
   "cell_type": "code",
   "execution_count": 256,
   "metadata": {},
   "outputs": [
    {
     "data": {
      "text/html": [
       "<table border=\"1\" class=\"dataframe\">\n",
       "  <thead>\n",
       "    <tr style=\"text-align: left;\">\n",
       "      <th>epoch</th>\n",
       "      <th>train_loss</th>\n",
       "      <th>valid_loss</th>\n",
       "      <th>accuracy_multi</th>\n",
       "      <th>f1_score</th>\n",
       "      <th>time</th>\n",
       "    </tr>\n",
       "  </thead>\n",
       "  <tbody>\n",
       "    <tr>\n",
       "      <td>0</td>\n",
       "      <td>0.210125</td>\n",
       "      <td>0.150296</td>\n",
       "      <td>0.915266</td>\n",
       "      <td>0.512121</td>\n",
       "      <td>00:13</td>\n",
       "    </tr>\n",
       "  </tbody>\n",
       "</table>"
      ],
      "text/plain": [
       "<IPython.core.display.HTML object>"
      ]
     },
     "metadata": {},
     "output_type": "display_data"
    }
   ],
   "source": [
    "learn.freeze_to(-3)\n",
    "learn.fit_one_cycle(n_epoch, slice((lr/4)/(2.6**4),lr/4), wd=wd)"
   ]
  },
  {
   "cell_type": "code",
   "execution_count": 257,
   "metadata": {},
   "outputs": [
    {
     "data": {
      "text/html": [
       "<table border=\"1\" class=\"dataframe\">\n",
       "  <thead>\n",
       "    <tr style=\"text-align: left;\">\n",
       "      <th>epoch</th>\n",
       "      <th>train_loss</th>\n",
       "      <th>valid_loss</th>\n",
       "      <th>accuracy_multi</th>\n",
       "      <th>f1_score</th>\n",
       "      <th>time</th>\n",
       "    </tr>\n",
       "  </thead>\n",
       "  <tbody>\n",
       "    <tr>\n",
       "      <td>0</td>\n",
       "      <td>0.194884</td>\n",
       "      <td>0.145594</td>\n",
       "      <td>0.920319</td>\n",
       "      <td>0.522289</td>\n",
       "      <td>00:17</td>\n",
       "    </tr>\n",
       "    <tr>\n",
       "      <td>1</td>\n",
       "      <td>0.190628</td>\n",
       "      <td>0.142574</td>\n",
       "      <td>0.923994</td>\n",
       "      <td>0.535333</td>\n",
       "      <td>00:17</td>\n",
       "    </tr>\n",
       "    <tr>\n",
       "      <td>2</td>\n",
       "      <td>0.179959</td>\n",
       "      <td>0.141083</td>\n",
       "      <td>0.921789</td>\n",
       "      <td>0.538923</td>\n",
       "      <td>00:17</td>\n",
       "    </tr>\n",
       "    <tr>\n",
       "      <td>3</td>\n",
       "      <td>0.171423</td>\n",
       "      <td>0.141557</td>\n",
       "      <td>0.921973</td>\n",
       "      <td>0.536780</td>\n",
       "      <td>00:17</td>\n",
       "    </tr>\n",
       "  </tbody>\n",
       "</table>"
      ],
      "text/plain": [
       "<IPython.core.display.HTML object>"
      ]
     },
     "metadata": {},
     "output_type": "display_data"
    }
   ],
   "source": [
    "learn.unfreeze()\n",
    "learn.fit_one_cycle(n_epoch*4, slice((lr/10)/(2.6**4),lr/10), wd=wd)"
   ]
  },
  {
   "cell_type": "code",
   "execution_count": 258,
   "metadata": {},
   "outputs": [
    {
     "data": {
      "text/html": [],
      "text/plain": [
       "<IPython.core.display.HTML object>"
      ]
     },
     "metadata": {},
     "output_type": "display_data"
    },
    {
     "data": {
      "text/plain": [
       "(torch.Size([1649, 33]), torch.Size([1649, 33]))"
      ]
     },
     "execution_count": 258,
     "metadata": {},
     "output_type": "execute_result"
    }
   ],
   "source": [
    "probs, targs = learn.get_preds()\n",
    "probs.shape, targs.shape"
   ]
  },
  {
   "cell_type": "code",
   "execution_count": 260,
   "metadata": {},
   "outputs": [],
   "source": [
    "preds = probs > thresh\n",
    "targs = targs.to(bool)"
   ]
  },
  {
   "cell_type": "code",
   "execution_count": 262,
   "metadata": {},
   "outputs": [
    {
     "name": "stdout",
     "output_type": "stream",
     "text": [
      "                        precision    recall  f1-score   support\n",
      "\n",
      "           aid_centers       0.08      0.13      0.10        15\n",
      "           aid_related       0.76      0.99      0.86      1145\n",
      "             buildings       0.51      0.78      0.62       115\n",
      "              clothing       0.56      0.62      0.59        37\n",
      "                  cold       0.58      0.84      0.68        45\n",
      "                 death       0.65      0.77      0.70       124\n",
      "         direct_report       0.71      0.84      0.77       615\n",
      "            earthquake       0.85      0.93      0.89       227\n",
      "           electricity       0.51      0.76      0.61        42\n",
      "                  fire       0.38      0.55      0.44        11\n",
      "                floods       0.61      0.71      0.66       246\n",
      "                  food       0.89      0.86      0.87       326\n",
      "             hospitals       0.40      0.56      0.47        18\n",
      "infrastructure_related       0.17      0.62      0.27        79\n",
      "          medical_help       0.52      0.65      0.57       220\n",
      "      medical_products       0.40      0.76      0.52       107\n",
      "              military       0.75      0.88      0.81        99\n",
      "        missing_people       0.28      0.31      0.29        16\n",
      "                 money       0.62      0.68      0.65        69\n",
      "             other_aid       0.26      0.86      0.39       220\n",
      "  other_infrastructure       0.12      0.52      0.19        42\n",
      "         other_weather       0.29      0.58      0.39       106\n",
      "              refugees       0.38      0.58      0.46        74\n",
      "               request       0.76      0.86      0.81       499\n",
      "     search_and_rescue       0.24      0.63      0.35        27\n",
      "              security       0.08      0.20      0.11        15\n",
      "               shelter       0.60      0.86      0.70       230\n",
      "                 shops       0.00      0.00      0.00         7\n",
      "                 storm       0.69      0.92      0.79       234\n",
      "                 tools       0.00      0.00      0.00         4\n",
      "             transport       0.47      0.42      0.45       130\n",
      "                 water       0.85      0.84      0.85       196\n",
      "       weather_related       0.76      0.93      0.83       731\n",
      "\n",
      "             micro avg       0.61      0.84      0.71      6071\n",
      "             macro avg       0.48      0.65      0.54      6071\n",
      "          weighted avg       0.67      0.84      0.73      6071\n",
      "           samples avg       0.65      0.87      0.71      6071\n",
      "\n"
     ]
    }
   ],
   "source": [
    "print(classification_report(targs, preds, target_names=dls_cls.vocab[1]))"
   ]
  },
  {
   "cell_type": "markdown",
   "metadata": {},
   "source": [
    "It seems like the model even performed slightly better than on the validation set. However, keep in mind that it also was trained on a larger amount of data. \n",
    "\n",
    "Exporting the final model"
   ]
  },
  {
   "cell_type": "code",
   "execution_count": 263,
   "metadata": {},
   "outputs": [],
   "source": [
    "learn.export('export_multi.pkl')"
   ]
  },
  {
   "cell_type": "markdown",
   "metadata": {},
   "source": [
    "### end"
   ]
  }
 ],
 "metadata": {
  "environment": {
   "name": "pytorch-gpu.1-4.m48",
   "type": "gcloud",
   "uri": "gcr.io/deeplearning-platform-release/pytorch-gpu.1-4:m48"
  },
  "kernelspec": {
   "display_name": "Python 3",
   "language": "python",
   "name": "python3"
  },
  "language_info": {
   "codemirror_mode": {
    "name": "ipython",
    "version": 3
   },
   "file_extension": ".py",
   "mimetype": "text/x-python",
   "name": "python",
   "nbconvert_exporter": "python",
   "pygments_lexer": "ipython3",
   "version": "3.6.9"
  }
 },
 "nbformat": 4,
 "nbformat_minor": 4
}
