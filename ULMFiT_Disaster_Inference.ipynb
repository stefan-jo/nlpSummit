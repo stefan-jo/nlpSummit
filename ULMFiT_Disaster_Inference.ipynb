{
 "cells": [
  {
   "cell_type": "markdown",
   "metadata": {},
   "source": [
    "# Multilingual Disaster Response Messages - ULMFiT Inference"
   ]
  },
  {
   "cell_type": "code",
   "execution_count": 4,
   "metadata": {},
   "outputs": [
    {
     "name": "stderr",
     "output_type": "stream",
     "text": [
      "/usr/local/lib/python3.6/dist-packages/fastcore/foundation.py:51: UserWarning: `patch_property` is deprecated and will be removed; use `patch(as_prop=True)` instead\n",
      "  warnings.warn(\"`patch_property` is deprecated and will be removed; use `patch(as_prop=True)` instead\")\n"
     ]
    }
   ],
   "source": [
    "from fastai.text.all import *"
   ]
  },
  {
   "cell_type": "markdown",
   "metadata": {},
   "source": [
    "## Load data"
   ]
  },
  {
   "cell_type": "code",
   "execution_count": 5,
   "metadata": {},
   "outputs": [],
   "source": [
    "df_inf = pd.read_csv('disaster_response_messages_test.csv', low_memory=False)"
   ]
  },
  {
   "cell_type": "code",
   "execution_count": 9,
   "metadata": {},
   "outputs": [],
   "source": [
    "label_cols = list(df_inf.columns)[6:]"
   ]
  },
  {
   "cell_type": "code",
   "execution_count": 62,
   "metadata": {},
   "outputs": [
    {
     "data": {
      "text/plain": [
       "2234    Additional information is available about the workshop at www.trademeetings.com, about USTDA at www.ustda.gov, about NOAA at www.noaa.gov, and about the NOAA National Data Buoy Center at www.ndbc.noaa.gov/dart.shtml.\n",
       "Name: message, dtype: object"
      ]
     },
     "execution_count": 62,
     "metadata": {},
     "output_type": "execute_result"
    }
   ],
   "source": [
    "example_1 = df_inf[df_inf[label_cols].values.sum(1)==0].sample(1)\n",
    "example_1.message"
   ]
  },
  {
   "cell_type": "code",
   "execution_count": 26,
   "metadata": {},
   "outputs": [
    {
     "data": {
      "text/plain": [
       "1572    Coastal Storm Early-Warning System in Vietnam: USAID/OFDA provides funding to the UNDP for the implementation of a radio-based coastal warning system.\n",
       "Name: message, dtype: object"
      ]
     },
     "execution_count": 26,
     "metadata": {},
     "output_type": "execute_result"
    }
   ],
   "source": [
    "example_2 = df_inf[df_inf[label_cols].values.sum(1)!=0].sample(1)\n",
    "example_2.message"
   ]
  },
  {
   "cell_type": "code",
   "execution_count": 68,
   "metadata": {},
   "outputs": [
    {
     "data": {
      "text/plain": [
       "2260    2000 homes were affected by flooding or sewage backup.\n",
       "Name: message, dtype: object"
      ]
     },
     "execution_count": 68,
     "metadata": {},
     "output_type": "execute_result"
    }
   ],
   "source": [
    "example_3 = df_inf[df_inf[label_cols].values.sum(1)!=0].sample(1)\n",
    "example_3.message"
   ]
  },
  {
   "cell_type": "markdown",
   "metadata": {},
   "source": [
    "## Step 1: Simple disaster classifier"
   ]
  },
  {
   "cell_type": "code",
   "execution_count": 65,
   "metadata": {},
   "outputs": [],
   "source": [
    "learn_stage_1 = load_learner('export.pkl')"
   ]
  },
  {
   "cell_type": "code",
   "execution_count": 66,
   "metadata": {},
   "outputs": [
    {
     "data": {
      "text/html": [],
      "text/plain": [
       "<IPython.core.display.HTML object>"
      ]
     },
     "metadata": {},
     "output_type": "display_data"
    },
    {
     "data": {
      "text/plain": [
       "('1', tensor(1), tensor([0.0455, 0.9545]))"
      ]
     },
     "execution_count": 66,
     "metadata": {},
     "output_type": "execute_result"
    }
   ],
   "source": [
    "learn_stage_1.predict(\"Additional information is available about the workshop at www.trademeetings.com, about USTDA at www.ustda.gov, about NOAA at www.noaa.gov, and about the NOAA National Data Buoy Center at www.ndbc.noaa.gov/dart.shtml.\")"
   ]
  },
  {
   "cell_type": "code",
   "execution_count": 67,
   "metadata": {},
   "outputs": [
    {
     "data": {
      "text/html": [],
      "text/plain": [
       "<IPython.core.display.HTML object>"
      ]
     },
     "metadata": {},
     "output_type": "display_data"
    },
    {
     "data": {
      "text/plain": [
       "('0', tensor(0), tensor([0.6194, 0.3806]))"
      ]
     },
     "execution_count": 67,
     "metadata": {},
     "output_type": "execute_result"
    }
   ],
   "source": [
    "learn_stage_1.predict(\"Coastal Storm Early-Warning System in Vietnam: USAID/OFDA provides funding to the UNDP for the implementation of a radio-based coastal warning system.\")"
   ]
  },
  {
   "cell_type": "code",
   "execution_count": 69,
   "metadata": {},
   "outputs": [
    {
     "data": {
      "text/html": [],
      "text/plain": [
       "<IPython.core.display.HTML object>"
      ]
     },
     "metadata": {},
     "output_type": "display_data"
    },
    {
     "data": {
      "text/plain": [
       "('0', tensor(0), tensor([0.9874, 0.0126]))"
      ]
     },
     "execution_count": 69,
     "metadata": {},
     "output_type": "execute_result"
    }
   ],
   "source": [
    "learn_stage_1.predict(\"2000 homes were affected by flooding or sewage backup.\")"
   ]
  },
  {
   "cell_type": "markdown",
   "metadata": {},
   "source": [
    "## Step 2: Multi-label classification"
   ]
  },
  {
   "cell_type": "code",
   "execution_count": 70,
   "metadata": {},
   "outputs": [],
   "source": [
    "learn_stage_2 = load_learner('export_multi.pkl')"
   ]
  },
  {
   "cell_type": "code",
   "execution_count": 71,
   "metadata": {},
   "outputs": [
    {
     "data": {
      "text/html": [],
      "text/plain": [
       "<IPython.core.display.HTML object>"
      ]
     },
     "metadata": {},
     "output_type": "display_data"
    },
    {
     "data": {
      "text/plain": [
       "((#2) ['storm','weather_related'],\n",
       " tensor([False, False, False, False, False, False, False, False, False, False,\n",
       "         False, False, False, False, False, False, False, False, False, False,\n",
       "         False, False, False, False, False, False, False, False,  True, False,\n",
       "         False, False,  True]),\n",
       " tensor([2.1116e-03, 3.1535e-01, 5.7612e-03, 6.5963e-04, 1.0699e-02, 3.1636e-03,\n",
       "         4.6336e-02, 1.9603e-02, 5.6048e-02, 1.6672e-02, 1.7348e-01, 1.3820e-03,\n",
       "         3.7140e-03, 5.8222e-02, 3.3277e-02, 1.3497e-02, 2.8681e-03, 1.5013e-02,\n",
       "         1.8690e-02, 3.5092e-01, 6.2760e-02, 3.4474e-01, 6.0197e-03, 2.8717e-02,\n",
       "         2.4228e-02, 1.3162e-02, 3.8652e-03, 1.6592e-03, 8.8298e-01, 8.8666e-03,\n",
       "         3.1417e-02, 8.7495e-03, 9.8746e-01]))"
      ]
     },
     "execution_count": 71,
     "metadata": {},
     "output_type": "execute_result"
    }
   ],
   "source": [
    "learn_stage_2.predict(\"Coastal Storm Early-Warning System in Vietnam: USAID/OFDA provides funding to the UNDP for the implementation of a radio-based coastal warning system.\")"
   ]
  },
  {
   "cell_type": "code",
   "execution_count": 72,
   "metadata": {},
   "outputs": [
    {
     "data": {
      "text/html": [],
      "text/plain": [
       "<IPython.core.display.HTML object>"
      ]
     },
     "metadata": {},
     "output_type": "display_data"
    },
    {
     "data": {
      "text/plain": [
       "((#3) ['buildings','floods','weather_related'],\n",
       " tensor([False, False,  True, False, False, False, False, False, False, False,\n",
       "          True, False, False, False, False, False, False, False, False, False,\n",
       "         False, False, False, False, False, False, False, False, False, False,\n",
       "         False, False,  True]),\n",
       " tensor([7.2469e-03, 4.9018e-01, 6.1818e-01, 7.5070e-04, 1.0410e-03, 3.8700e-03,\n",
       "         8.2158e-02, 2.8611e-03, 1.8153e-03, 4.0953e-03, 9.8168e-01, 1.1437e-02,\n",
       "         3.2053e-03, 4.6254e-01, 9.1658e-03, 5.0391e-03, 3.4160e-04, 2.3065e-03,\n",
       "         2.0636e-03, 9.2581e-02, 4.6375e-01, 7.1155e-02, 2.2947e-02, 1.6373e-02,\n",
       "         1.0328e-02, 3.3107e-03, 7.4476e-02, 5.8120e-03, 7.7587e-02, 1.1216e-03,\n",
       "         9.3813e-02, 1.2501e-02, 9.8733e-01]))"
      ]
     },
     "execution_count": 72,
     "metadata": {},
     "output_type": "execute_result"
    }
   ],
   "source": [
    "learn_stage_2.predict(\"2000 homes were affected by flooding or sewage backup.\")"
   ]
  },
  {
   "cell_type": "markdown",
   "metadata": {},
   "source": [
    "### end"
   ]
  }
 ],
 "metadata": {
  "kernelspec": {
   "display_name": "Python 3",
   "language": "python",
   "name": "python3"
  },
  "language_info": {
   "codemirror_mode": {
    "name": "ipython",
    "version": 3
   },
   "file_extension": ".py",
   "mimetype": "text/x-python",
   "name": "python",
   "nbconvert_exporter": "python",
   "pygments_lexer": "ipython3",
   "version": "3.6.9"
  }
 },
 "nbformat": 4,
 "nbformat_minor": 4
}
